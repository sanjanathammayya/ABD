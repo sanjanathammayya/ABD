{
  "nbformat": 4,
  "nbformat_minor": 0,
  "metadata": {
    "colab": {
      "provenance": [],
      "authorship_tag": "ABX9TyO0j+0b/Azx76ega8MVixJD"
    },
    "kernelspec": {
      "name": "python3",
      "display_name": "Python 3"
    },
    "language_info": {
      "name": "python"
    }
  },
  "cells": [
    {
      "cell_type": "code",
      "execution_count": 1,
      "metadata": {
        "colab": {
          "base_uri": "https://localhost:8080/"
        },
        "id": "byXPuXgVR4xT",
        "outputId": "8c49ee1e-1590-4de3-fd20-11021af28c93"
      },
      "outputs": [
        {
          "output_type": "stream",
          "name": "stdout",
          "text": [
            "Requirement already satisfied: pyspark in /usr/local/lib/python3.10/dist-packages (3.5.3)\n",
            "Requirement already satisfied: py4j==0.10.9.7 in /usr/local/lib/python3.10/dist-packages (from pyspark) (0.10.9.7)\n"
          ]
        }
      ],
      "source": [
        "!pip install pyspark"
      ]
    },
    {
      "cell_type": "code",
      "source": [
        "import pyspark\n",
        "from pyspark.sql import SparkSession\n",
        "from pyspark.sql.functions import *\n",
        "from pyspark.sql.types import *\n",
        "from pyspark.sql.window import *"
      ],
      "metadata": {
        "id": "N4mR9RbFTPuR"
      },
      "execution_count": 2,
      "outputs": []
    },
    {
      "cell_type": "code",
      "source": [
        "spark=SparkSession.builder.getOrCreate()"
      ],
      "metadata": {
        "id": "oF11-j5aTiN_"
      },
      "execution_count": 3,
      "outputs": []
    },
    {
      "cell_type": "code",
      "source": [
        "from google.colab import drive\n",
        "drive.mount('/content/drive/')"
      ],
      "metadata": {
        "colab": {
          "base_uri": "https://localhost:8080/"
        },
        "id": "jNxS4JpMSGFb",
        "outputId": "20493470-17ab-43db-e682-68bef4eaa60e"
      },
      "execution_count": 5,
      "outputs": [
        {
          "output_type": "stream",
          "name": "stdout",
          "text": [
            "Mounted at /content/drive/\n"
          ]
        }
      ]
    },
    {
      "cell_type": "code",
      "source": [
        "import pandas as pd\n",
        "data=spark.read.csv('drive/My Drive/ABD-DataFrame/indian_food.csv', header=True, inferSchema=True)\n",
        "data.show(truncate=False)"
      ],
      "metadata": {
        "colab": {
          "base_uri": "https://localhost:8080/"
        },
        "id": "5JQskEwNSa1L",
        "outputId": "a8308eef-9ece-475e-fad4-ac1a9a297285"
      },
      "execution_count": 6,
      "outputs": [
        {
          "output_type": "stream",
          "name": "stdout",
          "text": [
            "+--------------+----------------------------------------------------------------------------------------------+----------+---------+---------+--------------+-------+-------------+\n",
            "|name          |ingredients                                                                                   |diet      |prep_time|cook_time|flavor_profile|course |state        |\n",
            "+--------------+----------------------------------------------------------------------------------------------+----------+---------+---------+--------------+-------+-------------+\n",
            "|Balu shahi    |Maida flour, yogurt, oil, sugar                                                               |vegetarian|45       |25       |sweet         |dessert|West Bengal  |\n",
            "|Boondi        |Gram flour, ghee, sugar                                                                       |vegetarian|80       |30       |sweet         |dessert|Rajasthan    |\n",
            "|Gajar ka halwa|Carrots, milk, sugar, ghee, cashews, raisins                                                  |vegetarian|15       |60       |sweet         |dessert|Punjab       |\n",
            "|Ghevar        |Flour, ghee, kewra, milk, clarified butter, sugar, almonds, pistachio, saffron, green cardamom|vegetarian|15       |30       |sweet         |dessert|Rajasthan    |\n",
            "|Gulab jamun   |Milk powder, plain flour, baking powder, ghee, milk, sugar, water, rose water                 |vegetarian|15       |40       |sweet         |dessert|West Bengal  |\n",
            "|Imarti        |Sugar syrup, lentil flour                                                                     |vegetarian|10       |50       |sweet         |dessert|West Bengal  |\n",
            "|Jalebi        |Maida, corn flour, baking soda, vinegar, curd, water, turmeric, saffron, cardamom             |vegetarian|10       |50       |sweet         |dessert|Uttar Pradesh|\n",
            "|Kaju katli    |Cashews, ghee, cardamom, sugar                                                                |vegetarian|10       |20       |sweet         |dessert|-1           |\n",
            "|Kalakand      |Milk, cottage cheese, sugar                                                                   |vegetarian|20       |30       |sweet         |dessert|West Bengal  |\n",
            "|Kheer         |Milk, rice, sugar, dried fruits                                                               |vegetarian|10       |40       |sweet         |dessert|-1           |\n",
            "|Laddu         |Gram flour, ghee, sugar                                                                       |vegetarian|10       |40       |sweet         |dessert|-1           |\n",
            "|Lassi         |Yogurt, milk, nuts, sugar                                                                     |vegetarian|5        |5        |sweet         |dessert|Punjab       |\n",
            "|Nankhatai     |Refined flour, besan, ghee, powdered sugar, yoghurt, green cardamom                           |vegetarian|20       |30       |sweet         |dessert|-1           |\n",
            "|Petha         |Firm white pumpkin, sugar, kitchen lime, alum powder                                          |vegetarian|10       |30       |sweet         |dessert|Uttar Pradesh|\n",
            "|Phirni        |Rice, sugar, nuts                                                                             |vegetarian|30       |20       |sweet         |dessert|Odisha       |\n",
            "|Rabri         |Condensed milk, sugar, spices, nuts                                                           |vegetarian|10       |45       |sweet         |dessert|Uttar Pradesh|\n",
            "|Sheera        |Semolina, ghee, nuts, milk                                                                    |vegetarian|10       |25       |sweet         |dessert|Maharashtra  |\n",
            "|Singori       |Khoa, coconut, molu leaf                                                                      |vegetarian|10       |20       |sweet         |dessert|Uttarakhand  |\n",
            "|Sohan halwa   |Corn flour, ghee, dry fruits                                                                  |vegetarian|10       |60       |sweet         |dessert|Uttar Pradesh|\n",
            "|Sohan papdi   |Gram flour, ghee, sugar, milk, cardamom                                                       |vegetarian|-1       |60       |sweet         |dessert|Maharashtra  |\n",
            "+--------------+----------------------------------------------------------------------------------------------+----------+---------+---------+--------------+-------+-------------+\n",
            "only showing top 20 rows\n",
            "\n"
          ]
        }
      ]
    },
    {
      "cell_type": "code",
      "source": [
        "data.printSchema()"
      ],
      "metadata": {
        "colab": {
          "base_uri": "https://localhost:8080/"
        },
        "id": "3J74YJCbU2GV",
        "outputId": "6846a29b-1fd3-4aab-92fe-085584ccbcf2"
      },
      "execution_count": 7,
      "outputs": [
        {
          "output_type": "stream",
          "name": "stdout",
          "text": [
            "root\n",
            " |-- name: string (nullable = true)\n",
            " |-- ingredients: string (nullable = true)\n",
            " |-- diet: string (nullable = true)\n",
            " |-- prep_time: integer (nullable = true)\n",
            " |-- cook_time: integer (nullable = true)\n",
            " |-- flavor_profile: string (nullable = true)\n",
            " |-- course: string (nullable = true)\n",
            " |-- state: string (nullable = true)\n",
            "\n"
          ]
        }
      ]
    },
    {
      "cell_type": "code",
      "source": [
        "# 1. Find out how many unique dishes are present.\n",
        "\n",
        "data.select('name').distinct().count()\n",
        "data.select('name').distinct().show()\n"
      ],
      "metadata": {
        "colab": {
          "base_uri": "https://localhost:8080/"
        },
        "id": "GKT0RoT7WN2a",
        "outputId": "4f39a0c7-cad5-495d-a392-3551d4b8f40f"
      },
      "execution_count": 8,
      "outputs": [
        {
          "output_type": "stream",
          "name": "stdout",
          "text": [
            "+-----------------+\n",
            "|             name|\n",
            "+-----------------+\n",
            "|            Kheer|\n",
            "|          Poriyal|\n",
            "|Sabudana Khichadi|\n",
            "|   Gajar ka halwa|\n",
            "|     Keerai sadam|\n",
            "|         Dalithoy|\n",
            "|         Mihidana|\n",
            "|          Singori|\n",
            "|          Uttapam|\n",
            "|          Gavvalu|\n",
            "|   Kakinada khaja|\n",
            "|   Chak Hao Kheer|\n",
            "|          Pachadi|\n",
            "|         Vindaloo|\n",
            "|     Gheela Pitha|\n",
            "|         Idiappam|\n",
            "|     Keerai kootu|\n",
            "|             Idli|\n",
            "|            Saath|\n",
            "|            Rabri|\n",
            "+-----------------+\n",
            "only showing top 20 rows\n",
            "\n"
          ]
        }
      ]
    },
    {
      "cell_type": "code",
      "source": [
        "# 2. Which state has more dishes?\n",
        "data.select('state','name').groupBy('state').count().orderBy(col('count').desc()).show()\n",
        "data.select('state','name').groupBy('state').count().orderBy(col('count').desc()).show(1)"
      ],
      "metadata": {
        "colab": {
          "base_uri": "https://localhost:8080/"
        },
        "id": "MAR7OsJ4W7iU",
        "outputId": "4d593597-66ef-4a0b-9a0e-fe838c307905"
      },
      "execution_count": 9,
      "outputs": [
        {
          "output_type": "stream",
          "name": "stdout",
          "text": [
            "+---------------+-----+\n",
            "|          state|count|\n",
            "+---------------+-----+\n",
            "|        Gujarat|   35|\n",
            "|         Punjab|   32|\n",
            "|    Maharashtra|   30|\n",
            "|             -1|   24|\n",
            "|    West Bengal|   24|\n",
            "|          Assam|   21|\n",
            "|     Tamil Nadu|   20|\n",
            "| Andhra Pradesh|   10|\n",
            "|  Uttar Pradesh|    9|\n",
            "|         Kerala|    8|\n",
            "|         Odisha|    7|\n",
            "|      Karnataka|    6|\n",
            "|      Rajasthan|    6|\n",
            "|      Telangana|    5|\n",
            "|            Goa|    3|\n",
            "|          Bihar|    3|\n",
            "| Madhya Pradesh|    2|\n",
            "|        Manipur|    2|\n",
            "|Jammu & Kashmir|    2|\n",
            "|       Nagaland|    1|\n",
            "+---------------+-----+\n",
            "only showing top 20 rows\n",
            "\n",
            "+-------+-----+\n",
            "|  state|count|\n",
            "+-------+-----+\n",
            "|Gujarat|   35|\n",
            "+-------+-----+\n",
            "only showing top 1 row\n",
            "\n"
          ]
        }
      ]
    },
    {
      "cell_type": "code",
      "source": [
        "# 3. How many dishes from state Karnataka?\n",
        "data.select('name','state').where(col('state')=='Karnataka').show()\n",
        "data.select('name','state').where(col('state')=='Karnataka').count()"
      ],
      "metadata": {
        "colab": {
          "base_uri": "https://localhost:8080/"
        },
        "id": "t0L-Cn8TMUsc",
        "outputId": "aca81bcf-da1b-463a-d9e7-66260db397cc"
      },
      "execution_count": 10,
      "outputs": [
        {
          "output_type": "stream",
          "name": "stdout",
          "text": [
            "+--------------+---------+\n",
            "|          name|    state|\n",
            "+--------------+---------+\n",
            "| Dharwad pedha|Karnataka|\n",
            "|    Mysore pak|Karnataka|\n",
            "|Obbattu holige|Karnataka|\n",
            "|Bisi bele bath|Karnataka|\n",
            "|     Koshambri|Karnataka|\n",
            "|       Sandige|Karnataka|\n",
            "+--------------+---------+\n",
            "\n"
          ]
        },
        {
          "output_type": "execute_result",
          "data": {
            "text/plain": [
              "6"
            ]
          },
          "metadata": {},
          "execution_count": 10
        }
      ]
    },
    {
      "cell_type": "code",
      "source": [
        "#4. List number of unique regions\n",
        "def mapRegion(state):\n",
        "    south = ['Tamil Nadu', 'Karnataka', 'Kerala', 'Goa', 'Andhra Pradesh']\n",
        "    west = ['Rajasthan', 'Gujarat', 'Maharashtra']\n",
        "    east = ['West Bengal', 'Assam']\n",
        "    north = ['Punjab', 'NCT of Delhi', 'Haryana']\n",
        "    central = ['Madhya Pradesh', 'Chhattisgarh']\n",
        "\n",
        "    if state in south:\n",
        "        return 'South'\n",
        "    elif state in north:\n",
        "        return 'North'\n",
        "    elif state in west:\n",
        "        return 'West'\n",
        "    elif state in east:\n",
        "        return 'East'\n",
        "    elif state in central:\n",
        "        return 'Central'\n",
        "    else:\n",
        "        return '-1'\n",
        "\n",
        "regionudf = udf(mapRegion, StringType())\n",
        "df1 = data.withColumn('Region', regionudf(col('state')))\n",
        "df1.show()"
      ],
      "metadata": {
        "colab": {
          "base_uri": "https://localhost:8080/"
        },
        "id": "6m5h9tJAOzb0",
        "outputId": "25c1040b-5dbf-4bb7-d59b-0ce73f68a15c"
      },
      "execution_count": 11,
      "outputs": [
        {
          "output_type": "stream",
          "name": "stdout",
          "text": [
            "+--------------+--------------------+----------+---------+---------+--------------+-------+-------------+------+\n",
            "|          name|         ingredients|      diet|prep_time|cook_time|flavor_profile| course|        state|Region|\n",
            "+--------------+--------------------+----------+---------+---------+--------------+-------+-------------+------+\n",
            "|    Balu shahi|Maida flour, yogu...|vegetarian|       45|       25|         sweet|dessert|  West Bengal|  East|\n",
            "|        Boondi|Gram flour, ghee,...|vegetarian|       80|       30|         sweet|dessert|    Rajasthan|  West|\n",
            "|Gajar ka halwa|Carrots, milk, su...|vegetarian|       15|       60|         sweet|dessert|       Punjab| North|\n",
            "|        Ghevar|Flour, ghee, kewr...|vegetarian|       15|       30|         sweet|dessert|    Rajasthan|  West|\n",
            "|   Gulab jamun|Milk powder, plai...|vegetarian|       15|       40|         sweet|dessert|  West Bengal|  East|\n",
            "|        Imarti|Sugar syrup, lent...|vegetarian|       10|       50|         sweet|dessert|  West Bengal|  East|\n",
            "|        Jalebi|Maida, corn flour...|vegetarian|       10|       50|         sweet|dessert|Uttar Pradesh|    -1|\n",
            "|    Kaju katli|Cashews, ghee, ca...|vegetarian|       10|       20|         sweet|dessert|           -1|    -1|\n",
            "|      Kalakand|Milk, cottage che...|vegetarian|       20|       30|         sweet|dessert|  West Bengal|  East|\n",
            "|         Kheer|Milk, rice, sugar...|vegetarian|       10|       40|         sweet|dessert|           -1|    -1|\n",
            "|         Laddu|Gram flour, ghee,...|vegetarian|       10|       40|         sweet|dessert|           -1|    -1|\n",
            "|         Lassi|Yogurt, milk, nut...|vegetarian|        5|        5|         sweet|dessert|       Punjab| North|\n",
            "|     Nankhatai|Refined flour, be...|vegetarian|       20|       30|         sweet|dessert|           -1|    -1|\n",
            "|         Petha|Firm white pumpki...|vegetarian|       10|       30|         sweet|dessert|Uttar Pradesh|    -1|\n",
            "|        Phirni|   Rice, sugar, nuts|vegetarian|       30|       20|         sweet|dessert|       Odisha|    -1|\n",
            "|         Rabri|Condensed milk, s...|vegetarian|       10|       45|         sweet|dessert|Uttar Pradesh|    -1|\n",
            "|        Sheera|Semolina, ghee, n...|vegetarian|       10|       25|         sweet|dessert|  Maharashtra|  West|\n",
            "|       Singori|Khoa, coconut, mo...|vegetarian|       10|       20|         sweet|dessert|  Uttarakhand|    -1|\n",
            "|   Sohan halwa|Corn flour, ghee,...|vegetarian|       10|       60|         sweet|dessert|Uttar Pradesh|    -1|\n",
            "|   Sohan papdi|Gram flour, ghee,...|vegetarian|       -1|       60|         sweet|dessert|  Maharashtra|  West|\n",
            "+--------------+--------------------+----------+---------+---------+--------------+-------+-------------+------+\n",
            "only showing top 20 rows\n",
            "\n"
          ]
        }
      ]
    },
    {
      "cell_type": "code",
      "source": [
        "res=df1.select('Region').distinct().count()\n",
        "df1.select('Region').distinct().show()\n",
        "print(res)"
      ],
      "metadata": {
        "colab": {
          "base_uri": "https://localhost:8080/"
        },
        "id": "_4kMiMKgQwYR",
        "outputId": "69201649-90df-413e-cf28-27e178c7b9f9"
      },
      "execution_count": 12,
      "outputs": [
        {
          "output_type": "stream",
          "name": "stdout",
          "text": [
            "+-------+\n",
            "| Region|\n",
            "+-------+\n",
            "|     -1|\n",
            "|  South|\n",
            "|Central|\n",
            "|   East|\n",
            "|   West|\n",
            "|  North|\n",
            "+-------+\n",
            "\n",
            "6\n"
          ]
        }
      ]
    },
    {
      "cell_type": "code",
      "source": [
        "# 5. Count number of dishes from each region\n",
        "df1.select('region').groupBy('region').count().show()\n",
        "\n",
        "\n",
        "# (OR)\n",
        "df1.select('region').groupBy('region').count().withColumn('dishes',row_number().over(Window.partitionBy('region').orderBy(desc('count')))).filter(col('dishes') == 1).show()"
      ],
      "metadata": {
        "colab": {
          "base_uri": "https://localhost:8080/"
        },
        "id": "Z-LzGVJ-TFsY",
        "outputId": "7c309491-1f08-44be-c84f-5018c7d9ef32"
      },
      "execution_count": 13,
      "outputs": [
        {
          "output_type": "stream",
          "name": "stdout",
          "text": [
            "+-------+-----+\n",
            "| region|count|\n",
            "+-------+-----+\n",
            "|     -1|   55|\n",
            "|  South|   47|\n",
            "|Central|    3|\n",
            "|   East|   45|\n",
            "|   West|   71|\n",
            "|  North|   34|\n",
            "+-------+-----+\n",
            "\n",
            "+-------+-----+------+\n",
            "| region|count|dishes|\n",
            "+-------+-----+------+\n",
            "|     -1|   55|     1|\n",
            "|Central|    3|     1|\n",
            "|   East|   45|     1|\n",
            "|  North|   34|     1|\n",
            "|  South|   47|     1|\n",
            "|   West|   71|     1|\n",
            "+-------+-----+------+\n",
            "\n"
          ]
        }
      ]
    },
    {
      "cell_type": "code",
      "source": [
        "# 6. List unique 'flavor_profile' and 'course'\n",
        "\n",
        "df1.select('flavor_profile','course').distinct().show()"
      ],
      "metadata": {
        "colab": {
          "base_uri": "https://localhost:8080/"
        },
        "id": "IkzHP55BTP5W",
        "outputId": "33eff254-a362-4d55-be42-bec82156cbc9"
      },
      "execution_count": 14,
      "outputs": [
        {
          "output_type": "stream",
          "name": "stdout",
          "text": [
            "+--------------+-----------+\n",
            "|flavor_profile|     course|\n",
            "+--------------+-----------+\n",
            "|        bitter|      snack|\n",
            "|         spicy|    starter|\n",
            "|          sour|main course|\n",
            "|            -1|      snack|\n",
            "|            -1|main course|\n",
            "|         sweet|main course|\n",
            "|        bitter|main course|\n",
            "|         spicy|      snack|\n",
            "|         sweet|    dessert|\n",
            "|         spicy|main course|\n",
            "+--------------+-----------+\n",
            "\n"
          ]
        }
      ]
    },
    {
      "cell_type": "code",
      "source": [
        "# 7. Which state has more 'main course'?\n",
        "#df1.select('course').filter(col('course')=='main course').show()\n",
        "df1.select('state','course').filter(col('course')=='main course').groupBy(col('state')).count().orderBy(col('count').desc()).show()\n",
        "df1.select('state').filter(col('course')=='main course').groupBy(col('state')).count().orderBy(col('count').desc()).show(1)"
      ],
      "metadata": {
        "colab": {
          "base_uri": "https://localhost:8080/"
        },
        "id": "EWsr4zzqVLgf",
        "outputId": "d621be22-1351-41a0-812c-a4e1ef7b85e8"
      },
      "execution_count": 15,
      "outputs": [
        {
          "output_type": "stream",
          "name": "stdout",
          "text": [
            "+---------------+-----+\n",
            "|          state|count|\n",
            "+---------------+-----+\n",
            "|         Punjab|   28|\n",
            "|     Tamil Nadu|   17|\n",
            "|          Assam|   15|\n",
            "|        Gujarat|   12|\n",
            "|    Maharashtra|   12|\n",
            "|             -1|    9|\n",
            "|    West Bengal|    9|\n",
            "|         Kerala|    5|\n",
            "|      Karnataka|    4|\n",
            "|      Rajasthan|    3|\n",
            "|  Uttar Pradesh|    3|\n",
            "|          Bihar|    2|\n",
            "|       Nagaland|    1|\n",
            "|         Odisha|    1|\n",
            "| Madhya Pradesh|    1|\n",
            "|        Manipur|    1|\n",
            "|Jammu & Kashmir|    1|\n",
            "|            Goa|    1|\n",
            "|        Haryana|    1|\n",
            "|   NCT of Delhi|    1|\n",
            "+---------------+-----+\n",
            "only showing top 20 rows\n",
            "\n",
            "+------+-----+\n",
            "| state|count|\n",
            "+------+-----+\n",
            "|Punjab|   28|\n",
            "+------+-----+\n",
            "only showing top 1 row\n",
            "\n"
          ]
        }
      ]
    },
    {
      "cell_type": "code",
      "source": [
        "# 8. Give the %of dishes from each region.\n",
        "total=df1.count()\n",
        "df1.select('region').groupBy('region').count().withColumn('Percentage',(col('count')/total)*100).show()\n"
      ],
      "metadata": {
        "colab": {
          "base_uri": "https://localhost:8080/"
        },
        "id": "zGeBAOc9X78B",
        "outputId": "682c28c1-0fb4-44f4-bf81-c26b81a629f4"
      },
      "execution_count": 16,
      "outputs": [
        {
          "output_type": "stream",
          "name": "stdout",
          "text": [
            "+-------+-----+------------------+\n",
            "| region|count|        Percentage|\n",
            "+-------+-----+------------------+\n",
            "|     -1|   55|21.568627450980394|\n",
            "|  South|   47| 18.43137254901961|\n",
            "|Central|    3|1.1764705882352942|\n",
            "|   East|   45|17.647058823529413|\n",
            "|   West|   71| 27.84313725490196|\n",
            "|  North|   34|13.333333333333334|\n",
            "+-------+-----+------------------+\n",
            "\n"
          ]
        }
      ]
    },
    {
      "cell_type": "code",
      "source": [
        "# 9. List the states which has more dishes from each region.\n",
        "df1.select('state','region').groupBy('state','region').count().withColumn('dishes',row_number().over(Window.partitionBy('region').orderBy(desc('count')))).filter(col('dishes') == 1).show()"
      ],
      "metadata": {
        "colab": {
          "base_uri": "https://localhost:8080/"
        },
        "id": "LeJCqLPIYUVy",
        "outputId": "55b261c3-d6e8-449b-f60f-2cb39dee8320"
      },
      "execution_count": 17,
      "outputs": [
        {
          "output_type": "stream",
          "name": "stdout",
          "text": [
            "+--------------+-------+-----+------+\n",
            "|         state| region|count|dishes|\n",
            "+--------------+-------+-----+------+\n",
            "|            -1|     -1|   24|     1|\n",
            "|Madhya Pradesh|Central|    2|     1|\n",
            "|   West Bengal|   East|   24|     1|\n",
            "|        Punjab|  North|   32|     1|\n",
            "|    Tamil Nadu|  South|   20|     1|\n",
            "|       Gujarat|   West|   35|     1|\n",
            "+--------------+-------+-----+------+\n",
            "\n"
          ]
        }
      ]
    }
  ]
}